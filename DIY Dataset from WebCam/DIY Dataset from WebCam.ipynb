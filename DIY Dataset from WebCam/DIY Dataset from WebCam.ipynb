{
 "cells": [
  {
   "cell_type": "code",
   "execution_count": 2,
   "metadata": {},
   "outputs": [],
   "source": [
    "import cv2 as cv"
   ]
  },
  {
   "cell_type": "code",
   "execution_count": 19,
   "metadata": {},
   "outputs": [],
   "source": [
    "cam = cv.VideoCapture(0)\n",
    "\n",
    "resize_factor = 2\n",
    "\n",
    "num = 1\n",
    "\n",
    "while True:\n",
    "    \n",
    "    ret,img = cam.read()\n",
    "    img = cv.flip(img, 1)\n",
    "    \n",
    "    img = cv.resize(img, (1280/resize_factor,720/resize_factor))\n",
    "    \n",
    "    cv.imshow(\"Original\", img)\n",
    "    \n",
    "    name = \"Images/Selfie_\" + str(num) +\".png\"\n",
    "    cv.imwrite(name,img) \n",
    "    num += 1\n",
    "    \n",
    "    key = cv.waitKey(30)\n",
    "    \n",
    "    if (key == 27):\n",
    "        break\n",
    "        \n",
    "cam.release()"
   ]
  },
  {
   "cell_type": "code",
   "execution_count": null,
   "metadata": {},
   "outputs": [],
   "source": []
  }
 ],
 "metadata": {
  "kernelspec": {
   "display_name": "Python 2",
   "language": "python",
   "name": "python2"
  },
  "language_info": {
   "codemirror_mode": {
    "name": "ipython",
    "version": 2
   },
   "file_extension": ".py",
   "mimetype": "text/x-python",
   "name": "python",
   "nbconvert_exporter": "python",
   "pygments_lexer": "ipython2",
   "version": "2.7.16"
  }
 },
 "nbformat": 4,
 "nbformat_minor": 2
}
