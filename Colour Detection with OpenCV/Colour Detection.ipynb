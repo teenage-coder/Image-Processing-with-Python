{
 "cells": [
  {
   "cell_type": "code",
   "execution_count": 9,
   "metadata": {},
   "outputs": [],
   "source": [
    "import cv2 as cv\n",
    "import numpy as np\n",
    "\n",
    "cam = cv.VideoCapture(0)\n",
    "\n",
    "lower = np.array([180,170,120])\n",
    "upper = np.array([220,230,180])\n",
    "\n",
    "while True:\n",
    "    \n",
    "    ret,img = cam.read()\n",
    "    \n",
    "    img = cv.flip(img, 1)\n",
    "    \n",
    "    rgb = cv.cvtColor(img , cv.COLOR_BGR2HSV)\n",
    "    \n",
    "    mask = cv.inRange(rgb , lower, upper)\n",
    "\n",
    "    cv.imshow(\"Mask\",mask)\n",
    "    cv.imshow(\"Image\",img)\n",
    "    cv.imshow(\"HSV\",rgb)\n",
    "    \n",
    "    key = cv.waitKey(30)\n",
    "    \n",
    "    if key == 27:\n",
    "        break\n",
    "        \n",
    "cam.release()"
   ]
  },
  {
   "cell_type": "code",
   "execution_count": null,
   "metadata": {},
   "outputs": [],
   "source": []
  }
 ],
 "metadata": {
  "kernelspec": {
   "display_name": "Python 2",
   "language": "python",
   "name": "python2"
  },
  "language_info": {
   "codemirror_mode": {
    "name": "ipython",
    "version": 2
   },
   "file_extension": ".py",
   "mimetype": "text/x-python",
   "name": "python",
   "nbconvert_exporter": "python",
   "pygments_lexer": "ipython2",
   "version": "2.7.16"
  }
 },
 "nbformat": 4,
 "nbformat_minor": 2
}
