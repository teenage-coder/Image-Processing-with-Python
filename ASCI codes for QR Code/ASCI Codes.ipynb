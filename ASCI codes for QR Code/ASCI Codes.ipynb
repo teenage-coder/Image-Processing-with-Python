{
 "cells": [
  {
   "cell_type": "code",
   "execution_count": 91,
   "metadata": {},
   "outputs": [],
   "source": [
    "import numpy as np\n",
    "import cv2 as cv"
   ]
  },
  {
   "cell_type": "code",
   "execution_count": 96,
   "metadata": {},
   "outputs": [],
   "source": [
    "link = 'teenagecoder.com'\n",
    "\n",
    "def conv_bin(link):\n",
    "    lst = []\n",
    "\n",
    "    for char in link:\n",
    "        lst.append(ord(char))\n",
    "\n",
    "    binaries = []\n",
    "\n",
    "    for i in lst:\n",
    "\n",
    "        asci = i\n",
    "\n",
    "        binary = ''\n",
    "\n",
    "        while (asci!=0):\n",
    "\n",
    "            binary += str(asci%2)\n",
    "            asci = asci // 2\n",
    "\n",
    "        binaries.append(binary[::-1])\n",
    "\n",
    "    processed_bin = []\n",
    "\n",
    "    for i in binaries:\n",
    "        if (len(i) == 7):\n",
    "            processed_bin.append(\"0\" + i)\n",
    "        if (len(i) == 6):\n",
    "            processed_bin.append(\"00\" + i)\n",
    "        if (len(i) == 8):\n",
    "            processed_bin.append(i)\n",
    "\n",
    "    final_lst = []\n",
    "\n",
    "    for i in processed_bin:\n",
    "        lst = []\n",
    "        for j in i:\n",
    "            lst.append(int(j))\n",
    "        final_lst.append(lst)\n",
    "\n",
    "\n",
    "\n",
    "    arr = np.array(final_lst)\n",
    "    arr = arr*255\n",
    "    \n",
    "    return arr"
   ]
  },
  {
   "cell_type": "code",
   "execution_count": 98,
   "metadata": {},
   "outputs": [],
   "source": [
    "arr = conv_bin('teenagecoder.com')"
   ]
  },
  {
   "cell_type": "code",
   "execution_count": 99,
   "metadata": {},
   "outputs": [
    {
     "data": {
      "text/plain": [
       "array([[  0, 255, 255, 255,   0, 255,   0,   0],\n",
       "       [  0, 255, 255,   0,   0, 255,   0, 255],\n",
       "       [  0, 255, 255,   0,   0, 255,   0, 255],\n",
       "       [  0, 255, 255,   0, 255, 255, 255,   0],\n",
       "       [  0, 255, 255,   0,   0,   0,   0, 255],\n",
       "       [  0, 255, 255,   0,   0, 255, 255, 255],\n",
       "       [  0, 255, 255,   0,   0, 255,   0, 255],\n",
       "       [  0, 255, 255,   0,   0,   0, 255, 255],\n",
       "       [  0, 255, 255,   0, 255, 255, 255, 255],\n",
       "       [  0, 255, 255,   0,   0, 255,   0,   0],\n",
       "       [  0, 255, 255,   0,   0, 255,   0, 255],\n",
       "       [  0, 255, 255, 255,   0,   0, 255,   0],\n",
       "       [  0,   0, 255,   0, 255, 255, 255,   0],\n",
       "       [  0, 255, 255,   0,   0,   0, 255, 255],\n",
       "       [  0, 255, 255,   0, 255, 255, 255, 255],\n",
       "       [  0, 255, 255,   0, 255, 255,   0, 255]])"
      ]
     },
     "execution_count": 99,
     "metadata": {},
     "output_type": "execute_result"
    }
   ],
   "source": [
    "arr"
   ]
  },
  {
   "cell_type": "code",
   "execution_count": 100,
   "metadata": {},
   "outputs": [
    {
     "data": {
      "text/plain": [
       "16"
      ]
     },
     "execution_count": 100,
     "metadata": {},
     "output_type": "execute_result"
    }
   ],
   "source": [
    "len('teenagecoder.com')"
   ]
  },
  {
   "cell_type": "code",
   "execution_count": null,
   "metadata": {},
   "outputs": [],
   "source": []
  }
 ],
 "metadata": {
  "kernelspec": {
   "display_name": "Python 2",
   "language": "python",
   "name": "python2"
  },
  "language_info": {
   "codemirror_mode": {
    "name": "ipython",
    "version": 2
   },
   "file_extension": ".py",
   "mimetype": "text/x-python",
   "name": "python",
   "nbconvert_exporter": "python",
   "pygments_lexer": "ipython2",
   "version": "2.7.16"
  }
 },
 "nbformat": 4,
 "nbformat_minor": 2
}
