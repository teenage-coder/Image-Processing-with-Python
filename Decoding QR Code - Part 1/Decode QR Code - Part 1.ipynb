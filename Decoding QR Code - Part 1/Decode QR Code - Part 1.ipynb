{
 "cells": [
  {
   "cell_type": "markdown",
   "metadata": {},
   "source": [
    "# Process\n",
    "### Txt  -> ASCI       -> Bin           -> Pixel\n",
    "### abc    68,67,69      010101      0,255,0,255,0\n",
    "\n",
    "### Txt  <- ASCI       <- Bin           <- Pixel\n",
    "### abc    68,67,69      010101      0,255,0,255,0"
   ]
  },
  {
   "cell_type": "code",
   "execution_count": 2,
   "metadata": {},
   "outputs": [],
   "source": [
    "import numpy as np\n",
    "import pandas as pd\n",
    "import cv2 as cv\n",
    "\n",
    "import matplotlib.pyplot as plt"
   ]
  },
  {
   "cell_type": "code",
   "execution_count": 3,
   "metadata": {},
   "outputs": [],
   "source": [
    "qr = cv.imread('QR_Code.png', 0)"
   ]
  },
  {
   "cell_type": "code",
   "execution_count": 4,
   "metadata": {},
   "outputs": [
    {
     "data": {
      "text/plain": [
       "<matplotlib.image.AxesImage at 0x7fe053ec6d90>"
      ]
     },
     "execution_count": 4,
     "metadata": {},
     "output_type": "execute_result"
    },
    {
     "data": {
      "image/png": "[encoded data removed]",
      "text/plain": [
       "<Figure size 432x288 with 1 Axes>"
      ]
     },
     "metadata": {
      "needs_background": "light"
     },
     "output_type": "display_data"
    }
   ],
   "source": [
    "plt.imshow(qr)"
   ]
  },
  {
   "cell_type": "code",
   "execution_count": 5,
   "metadata": {},
   "outputs": [],
   "source": [
    "data = qr[: , 8 : 16]"
   ]
  },
  {
   "cell_type": "code",
   "execution_count": 6,
   "metadata": {},
   "outputs": [
    {
     "data": {
      "text/plain": [
       "array([[  0, 255, 255, 255,   0, 255,   0,   0],\n",
       "       [  0, 255, 255,   0,   0, 255,   0, 255],\n",
       "       [  0, 255, 255,   0,   0, 255,   0, 255],\n",
       "       [  0, 255, 255,   0, 255, 255, 255,   0],\n",
       "       [  0, 255, 255,   0,   0,   0,   0, 255],\n",
       "       [  0, 255, 255,   0,   0, 255, 255, 255],\n",
       "       [  0, 255, 255,   0,   0, 255,   0, 255],\n",
       "       [  0, 255, 255,   0,   0,   0, 255, 255],\n",
       "       [  0, 255, 255,   0, 255, 255, 255, 255],\n",
       "       [  0, 255, 255,   0,   0, 255,   0,   0],\n",
       "       [  0, 255, 255,   0,   0, 255,   0, 255],\n",
       "       [  0, 255, 255, 255,   0,   0, 255,   0],\n",
       "       [  0,   0, 255,   0, 255, 255, 255,   0],\n",
       "       [  0, 255, 255,   0,   0,   0, 255, 255],\n",
       "       [  0, 255, 255,   0, 255, 255, 255, 255],\n",
       "       [  0, 255, 255,   0, 255, 255,   0, 255],\n",
       "       [255,   0, 255,   0, 255,   0,   0,   0],\n",
       "       [255,   0,   0, 255, 255,   0,   0, 255],\n",
       "       [255, 255, 255,   0,   0, 255, 255, 255],\n",
       "       [255, 255,   0, 255,   0,   0, 255,   0],\n",
       "       [255, 255,   0,   0,   0,   0, 255, 255],\n",
       "       [  0,   0, 255,   0, 255, 255,   0,   0],\n",
       "       [  0,   0, 255, 255,   0, 255,   0,   0],\n",
       "       [255,   0, 255,   0, 255,   0,   0, 255],\n",
       "       [255, 255,   0,   0,   0,   0,   0, 255]], dtype=uint8)"
      ]
     },
     "execution_count": 6,
     "metadata": {},
     "output_type": "execute_result"
    }
   ],
   "source": [
    "data"
   ]
  },
  {
   "cell_type": "code",
   "execution_count": 7,
   "metadata": {},
   "outputs": [],
   "source": [
    "data = data / 255."
   ]
  },
  {
   "cell_type": "code",
   "execution_count": 8,
   "metadata": {},
   "outputs": [
    {
     "data": {
      "text/plain": [
       "array([[0., 1., 1., 1., 0., 1., 0., 0.],\n",
       "       [0., 1., 1., 0., 0., 1., 0., 1.],\n",
       "       [0., 1., 1., 0., 0., 1., 0., 1.],\n",
       "       [0., 1., 1., 0., 1., 1., 1., 0.],\n",
       "       [0., 1., 1., 0., 0., 0., 0., 1.],\n",
       "       [0., 1., 1., 0., 0., 1., 1., 1.],\n",
       "       [0., 1., 1., 0., 0., 1., 0., 1.],\n",
       "       [0., 1., 1., 0., 0., 0., 1., 1.],\n",
       "       [0., 1., 1., 0., 1., 1., 1., 1.],\n",
       "       [0., 1., 1., 0., 0., 1., 0., 0.],\n",
       "       [0., 1., 1., 0., 0., 1., 0., 1.],\n",
       "       [0., 1., 1., 1., 0., 0., 1., 0.],\n",
       "       [0., 0., 1., 0., 1., 1., 1., 0.],\n",
       "       [0., 1., 1., 0., 0., 0., 1., 1.],\n",
       "       [0., 1., 1., 0., 1., 1., 1., 1.],\n",
       "       [0., 1., 1., 0., 1., 1., 0., 1.],\n",
       "       [1., 0., 1., 0., 1., 0., 0., 0.],\n",
       "       [1., 0., 0., 1., 1., 0., 0., 1.],\n",
       "       [1., 1., 1., 0., 0., 1., 1., 1.],\n",
       "       [1., 1., 0., 1., 0., 0., 1., 0.],\n",
       "       [1., 1., 0., 0., 0., 0., 1., 1.],\n",
       "       [0., 0., 1., 0., 1., 1., 0., 0.],\n",
       "       [0., 0., 1., 1., 0., 1., 0., 0.],\n",
       "       [1., 0., 1., 0., 1., 0., 0., 1.],\n",
       "       [1., 1., 0., 0., 0., 0., 0., 1.]])"
      ]
     },
     "execution_count": 8,
     "metadata": {},
     "output_type": "execute_result"
    }
   ],
   "source": [
    "data"
   ]
  },
  {
   "cell_type": "code",
   "execution_count": 13,
   "metadata": {
    "scrolled": true
   },
   "outputs": [
    {
     "name": "stdout",
     "output_type": "stream",
     "text": [
      "01110100\n",
      "01100101\n",
      "01100101\n",
      "01101110\n",
      "01100001\n",
      "01100111\n",
      "01100101\n",
      "01100011\n",
      "01101111\n",
      "01100100\n",
      "01100101\n",
      "01110010\n",
      "00101110\n",
      "01100011\n",
      "01101111\n",
      "01101101\n",
      "10101000\n",
      "10011001\n",
      "11100111\n",
      "11010010\n",
      "11000011\n",
      "00101100\n",
      "00110100\n",
      "10101001\n",
      "11000001\n"
     ]
    }
   ],
   "source": [
    "txt = ''\n",
    "\n",
    "for i in data:\n",
    "    \n",
    "    tmp = ''\n",
    "\n",
    "    for j in i:\n",
    "        tmp += str(int(j))\n",
    "        \n",
    "    print(tmp)"
   ]
  }
 ],
 "metadata": {
  "kernelspec": {
   "display_name": "Python 2",
   "language": "python",
   "name": "python2"
  },
  "language_info": {
   "codemirror_mode": {
    "name": "ipython",
    "version": 2
   },
   "file_extension": ".py",
   "mimetype": "text/x-python",
   "name": "python",
   "nbconvert_exporter": "python",
   "pygments_lexer": "ipython2",
   "version": "2.7.16"
  }
 },
 "nbformat": 4,
 "nbformat_minor": 2
}
